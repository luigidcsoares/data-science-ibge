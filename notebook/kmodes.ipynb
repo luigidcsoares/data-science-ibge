{
 "cells": [
  {
   "cell_type": "code",
   "execution_count": 1,
   "metadata": {},
   "outputs": [],
   "source": [
    "%matplotlib inline\n",
    "\n",
    "import os\n",
    "import sys\n",
    "import time\n",
    "import pandas as pd\n",
    "import numpy as np\n",
    "import graphviz\n",
    "from sklearn import metrics\n",
    "from sklearn import tree\n",
    "from scipy.stats import entropy\n",
    "from kmodes.kmodes import KModes\n",
    "import matplotlib.pyplot as plt\n",
    "\n",
    "module_path = os.path.abspath(os.path.join('..'))\n",
    "src_path = '{}/src'.format(module_path)\n",
    "if module_path not in sys.path:\n",
    "    sys.path.append(src_path)\n",
    "\n",
    "from algorithms import simple_matching\n",
    "plt.rcParams.update({'figure.max_open_warning': 0})"
   ]
  },
  {
   "cell_type": "markdown",
   "metadata": {},
   "source": [
    "## Carregando base e transformando colunas em categórico"
   ]
  },
  {
   "cell_type": "code",
   "execution_count": 2,
   "metadata": {},
   "outputs": [],
   "source": [
    "ndp_path = '{}/data/processed/d_dataset_ndp.csv'.format(module_path)\n",
    "dp_path = '{}/data/processed/d_dataset_dp.csv'.format(module_path)\n",
    "\n",
    "df_ndp = pd.read_csv(ndp_path)\n",
    "df_dp = pd.read_csv(dp_path)\n",
    "\n",
    "# Transformando em categórico\n",
    "df_ndp = df_ndp.astype('category')"
   ]
  },
  {
   "cell_type": "markdown",
   "metadata": {},
   "source": [
    "## Execução do KModes"
   ]
  },
  {
   "cell_type": "code",
   "execution_count": 3,
   "metadata": {},
   "outputs": [
    {
     "name": "stdout",
     "output_type": "stream",
     "text": [
      "Pureza do cluster [0]: 0.524873828406633\n",
      "Pureza do cluster [1]: 0.815625\n",
      "Pureza do cluster [2]: 0.6521460602178091\n",
      "Pureza do cluster [3]: 0.8756613756613757\n",
      "Pureza do cluster [4]: 0.6508379888268156\n",
      "Pureza do cluster [5]: 0.6808510638297872\n",
      "Pureza do cluster [6]: 0.6270833333333333\n",
      "\n",
      "\n",
      "Entropia do cluster [0]: 0.691909254976447\n",
      "Entropia do cluster [1]: 0.4779630723510834\n",
      "Entropia do cluster [2]: 0.646108011878287\n",
      "Entropia do cluster [3]: 0.3754811809894803\n",
      "Entropia do cluster [4]: 0.6469263471727789\n",
      "Entropia do cluster [5]: 0.6262262845584756\n",
      "Entropia do cluster [6]: 0.6604897519542142\n",
      "\n",
      "\n",
      "Custo: 14934.0\n",
      "Entropia Clusterização: 0.6269460832648127\n",
      "Média da Pureza: 0.6895826643251076\n",
      "Silhouette Index: -0.28430738739679456\n"
     ]
    }
   ],
   "source": [
    "k = 7\n",
    "km = KModes(n_clusters=k, init='Huang', n_init=10, random_state=1, verbose=0)\n",
    "labels = km.fit_predict(df_ndp)\n",
    "\n",
    "# Classificações em cada cluster\n",
    "cluster = [ { 'class': None, 'size': 0, 'dp': 0, 'ndp': 0, 'entropy': 0 , 'purity': 0}  for _ in range(k) ]\n",
    "for instance, label in enumerate(labels):\n",
    "    cluster[label]['size'] += 1\n",
    "\n",
    "    if df_dp.iloc[instance].Diagnosticado_Depressao == 1:\n",
    "        cluster[label]['dp'] += 1\n",
    "    else:\n",
    "        cluster[label]['ndp'] += 1\n",
    "\n",
    "n_total_itens = 0\n",
    "pureza = 0\n",
    "\n",
    "for i, cl in enumerate(cluster):\n",
    "    if cl['dp'] > cl['ndp']:\n",
    "        cl['class'] = 'dp'\n",
    "        cl['purity'] = cl['dp'] / cl['size']\n",
    "    else:\n",
    "        cl['class'] = 'ndp'\n",
    "        cl['purity'] = cl['ndp'] / cl['size']\n",
    "    cl['entropy'] = entropy([ cl['dp'] / cl['size'], \n",
    "                             cl['ndp'] / cl['size']\n",
    "                            ])\n",
    "    n_total_itens += cl['size']\n",
    "    print(\"Pureza do cluster [{}]: {}\".format(i, cl['purity']))\n",
    "    pureza += cl['purity']\n",
    "pureza /= k\n",
    "\n",
    "print('\\n')\n",
    "\n",
    "entropy_clustering = 0\n",
    "for i, cl in enumerate(cluster):\n",
    "    print(\"Entropia do cluster [{}]: {}\".format(i, cl['entropy']))\n",
    "    entropy_clustering += cl['entropy'] * (cl['size']/n_total_itens)\n",
    "\n",
    "print('\\n')    \n",
    "\n",
    "print(\"Custo: {}\".format(km.cost_))\n",
    "print(\"Entropia Clusterização: {}\".format(entropy_clustering))\n",
    "print(\"Média da Pureza: {}\".format(pureza))\n",
    "print(\"Silhouette Index: {}\".format(metrics.silhouette_score(df_ndp, labels, metric=simple_matching)))"
   ]
  },
  {
   "cell_type": "markdown",
   "metadata": {},
   "source": [
    "## ===== DAQUI PRA CIMA NINGUEM MEXE ====="
   ]
  },
  {
   "cell_type": "code",
   "execution_count": 3,
   "metadata": {},
   "outputs": [
    {
     "name": "stdout",
     "output_type": "stream",
     "text": [
      "Pureza do cluster [0]: 0.5351724137931034\n",
      "Pureza do cluster [1]: 0.5833333333333334\n",
      "Pureza do cluster [2]: 0.5708920187793427\n",
      "Pureza do cluster [3]: 0.8895833333333333\n",
      "Pureza do cluster [4]: 0.7304964539007093\n",
      "\n",
      "\n",
      "Entropia do cluster [0]: 0.6906709385752596\n",
      "Entropia do cluster [1]: 0.6791932659915256\n",
      "Entropia do cluster [2]: 0.6830618735669235\n",
      "Entropia do cluster [3]: 0.3473855933459259\n",
      "Entropia do cluster [4]: 0.5827644303976354\n",
      "\n",
      "\n",
      "Custo: 15718.0\n",
      "Média da Pureza: 0.6618955106279645\n",
      "Entropia Clusterização: 0.6293702746003259\n",
      "Silhouette Index: -0.2775679221876393\n"
     ]
    }
   ],
   "source": [
    "disorder = 0.6\n",
    "accuracy = 0.7\n",
    "\n",
    "k = 5\n",
    "km = KModes(n_clusters=k, init='Huang', n_init=10, random_state=1, verbose=0, n_jobs=-1)\n",
    "labels = km.fit_predict(df_ndp)\n",
    "\n",
    "# Classificações em cada cluster\n",
    "cluster = [ { 'class': None, 'size': 0, 'dp': 0, 'ndp': 0, 'entropy': 0 , 'purity': 0}  for _ in range(k) ]\n",
    "for instance, label in enumerate(labels):\n",
    "    cluster[label]['size'] += 1\n",
    "\n",
    "    if df_dp.iloc[instance].Diagnosticado_Depressao == 1:\n",
    "        cluster[label]['dp'] += 1\n",
    "    else:\n",
    "        cluster[label]['ndp'] += 1\n",
    "\n",
    "n_total_itens = 0\n",
    "pureza = 0\n",
    "\n",
    "for i, cl in enumerate(cluster):\n",
    "    if cl['dp'] > cl['ndp']:\n",
    "        cl['class'] = 'dp'\n",
    "        cl['purity'] = cl['dp'] / cl['size']\n",
    "    else:\n",
    "        cl['class'] = 'dp'\n",
    "        cl['purity'] = cl['ndp'] / cl['size']\n",
    "    cl['entropy'] = entropy([ cl['dp'] / cl['size'], \n",
    "                             cl['ndp'] / cl['size']\n",
    "                            ])\n",
    "    n_total_itens += cl['size']\n",
    "    print(\"Pureza do cluster [{}]: {}\".format(i, cl['purity']))\n",
    "    pureza += cl['purity']\n",
    "pureza /= k\n",
    "\n",
    "print('\\n')\n",
    "\n",
    "relevant_clusters = []\n",
    "entropy_clustering = 0\n",
    "for i, cl in enumerate(cluster):\n",
    "    print(\"Entropia do cluster [{}]: {}\".format(i, cl['entropy']))\n",
    "    entropy_clustering += cl['entropy'] * (cl['size']/n_total_itens)\n",
    "    if cl['entropy'] <= disorder and cl['purity'] >= accuracy:\n",
    "        relevant_clusters.append(i)\n",
    "\n",
    "print('\\n')    \n",
    "\n",
    "print(\"Custo: {}\".format(km.cost_))\n",
    "print(\"Média da Pureza: {}\".format(pureza))\n",
    "print(\"Entropia Clusterização: {}\".format(entropy_clustering))\n",
    "print(\"Silhouette Index: {}\".format(metrics.silhouette_score(df_ndp, labels, metric=simple_matching)))"
   ]
  },
  {
   "cell_type": "markdown",
   "metadata": {},
   "source": [
    "## Cria Dataframes dos Clusters relevantes"
   ]
  },
  {
   "cell_type": "code",
   "execution_count": 8,
   "metadata": {},
   "outputs": [],
   "source": [
    "instances = { k: [] for k in relevant_clusters }\n",
    "for i, label in enumerate(labels):\n",
    "    if label in relevant_clusters:\n",
    "        instances[label].append(i)\n",
    "\n",
    "dfx = []\n",
    "# target = []\n",
    "for i in relevant_clusters:\n",
    "    dfx.append(df_dp.iloc[instances[i]].copy())\n",
    "    # target.append(df_dp.iloc[instances[i]].Diagnosticado_Depressao.copy())\n",
    "    \n",
    "for i, df_ in enumerate(dfx):\n",
    "    df_.to_csv('{}/data/processed/cluster{}.csv'.format(module_path, i), header=True, index=False)"
   ]
  },
  {
   "cell_type": "markdown",
   "metadata": {},
   "source": [
    "## Árvore de Decisão com os Clusters relevantes"
   ]
  },
  {
   "cell_type": "code",
   "execution_count": 6,
   "metadata": {},
   "outputs": [
    {
     "data": {
      "text/plain": [
       "'cluster3.pdf'"
      ]
     },
     "execution_count": 6,
     "metadata": {},
     "output_type": "execute_result"
    }
   ],
   "source": [
    "clf = tree.DecisionTreeClassifier()\n",
    "clf = clf.fit(dfx[0], target[0])\n",
    "dot_data = tree.export_graphviz(clf, out_file=None) \n",
    "graph = graphviz.Source(dot_data) \n",
    "graph.render(\"cluster3\") "
   ]
  },
  {
   "cell_type": "markdown",
   "metadata": {},
   "source": [
    "## Análise dos clusters gerados"
   ]
  },
  {
   "cell_type": "code",
   "execution_count": 5,
   "metadata": {},
   "outputs": [
    {
     "data": {
      "image/png": "[encoded data removed]",
      "text/plain": [
       "<Figure size 432x288 with 1 Axes>"
      ]
     },
     "metadata": {
      "needs_background": "light"
     },
     "output_type": "display_data"
    },
    {
     "data": {
      "image/png": "[encoded data removed]",
      "text/plain": [
       "<Figure size 432x288 with 1 Axes>"
      ]
     },
     "metadata": {
      "needs_background": "light"
     },
     "output_type": "display_data"
    },
    {
     "data": {
      "image/png": "[encoded data removed]",
      "text/plain": [
       "<Figure size 432x288 with 1 Axes>"
      ]
     },
     "metadata": {
      "needs_background": "light"
     },
     "output_type": "display_data"
    },
    {
     "data": {
      "image/png": "[encoded data removed]",
      "text/plain": [
       "<Figure size 432x288 with 1 Axes>"
      ]
     },
     "metadata": {
      "needs_background": "light"
     },
     "output_type": "display_data"
    }
   ],
   "source": [
    "min_ = 2\n",
    "max_ = 9\n",
    "\n",
    "x = [i for i in range(min_, max_)] # valores de k\n",
    "y = [] # Custos para cada valor de k\n",
    "z = [] # Entropia para cada valor de k\n",
    "w = [] # Pureza média para cada valor de k\n",
    "r = [] # Silhouette Index para cada valor k\n",
    "\n",
    "for k in x:\n",
    "    km = KModes(n_clusters=k, init='Huang', random_state=1, verbose=0, n_jobs=-1)\n",
    "    labels = km.fit_predict(df_ndp)\n",
    "    centroids = km.cluster_centroids_\n",
    "    y.append(km.cost_)\n",
    "\n",
    "    # Classificações em cada cluster\n",
    "    cluster = [ { 'class': None, 'size': 0, 'dp': 0, 'ndp': 0, 'entropy': 0 , 'purity': 0}  for _ in range(k) ]\n",
    "    for instance, label in enumerate(labels):\n",
    "        cluster[label]['size'] += 1\n",
    "\n",
    "        if df_dp.iloc[instance].Diagnosticado_Depressao == 1:\n",
    "            cluster[label]['dp'] += 1\n",
    "        else:\n",
    "            cluster[label]['ndp'] += 1\n",
    "\n",
    "    # Classificar cada cluster de acordo com sua classe mais relevante\n",
    "    n_total_itens = 0\n",
    "    pureza = 0\n",
    "\n",
    "    for cl in cluster:\n",
    "        if cl['dp'] > cl['ndp']:\n",
    "            cl['class'] = 'dp'\n",
    "            cl['purity'] = cl['dp'] / cl['size']\n",
    "        else:\n",
    "            cl['class'] = 'ndp'\n",
    "            cl['purity'] = cl['ndp'] / cl['size']\n",
    "        cl['entropy'] = entropy([ cl['dp'] / cl['size'], \n",
    "                                 cl['ndp'] / cl['size']\n",
    "                                ])\n",
    "        n_total_itens += cl['size']\n",
    "        pureza += cl['purity']\n",
    "    pureza /= k\n",
    "    \n",
    "    w.append(pureza)\n",
    "\n",
    "    # Verificar a acurácia dos clusters com entropia baixa\n",
    "    entropy_clustering = 0\n",
    "\n",
    "    for cl in cluster:\n",
    "        entropy_clustering += cl['entropy'] * (cl['size']/n_total_itens)\n",
    "\n",
    "    r.append(metrics.silhouette_score(df_ndp, labels, metric=simple_matching))\n",
    "    z.append(entropy_clustering)\n",
    "\n",
    "# Imprime o custo (Distância de todos os pontos ao centróide) da clusterização\n",
    "plt.plot(x, y)\n",
    "plt.ylabel('Custo')\n",
    "plt.xlabel('K')\n",
    "plt.xticks([i for i in range(min_, max_)], [i for i in range(min_, max_)])\n",
    "plt.show()\n",
    "\n",
    "# Imprime a média da pureza dos clusters\n",
    "plt.plot(x, w)\n",
    "plt.ylabel('Média Pureza')\n",
    "plt.xlabel('K')\n",
    "plt.xticks([i for i in range(min_, max_)], [i for i in range(min_, max_)])\n",
    "plt.show()\n",
    "\n",
    "# Imprime a entropia da clusterização\n",
    "plt.plot(x, z)\n",
    "plt.ylabel('Entropia')\n",
    "plt.xlabel('K')\n",
    "plt.xticks([i for i in range(min_, max_)], [i for i in range(min_, max_)])\n",
    "plt.show()\n",
    "\n",
    "# Imprime o silhouette index dos clusters\n",
    "plt.plot(x, r)\n",
    "plt.ylabel('Silhouette Index')\n",
    "plt.xlabel('K')\n",
    "plt.xticks([i for i in range(min_, max_)], [i for i in range(min_, max_)])\n",
    "plt.show()"
   ]
  },
  {
   "cell_type": "code",
   "execution_count": null,
   "metadata": {},
   "outputs": [],
   "source": []
  }
 ],
 "metadata": {
  "kernelspec": {
   "display_name": "Python 3",
   "language": "python",
   "name": "python3"
  },
  "language_info": {
   "codemirror_mode": {
    "name": "ipython",
    "version": 3
   },
   "file_extension": ".py",
   "mimetype": "text/x-python",
   "name": "python",
   "nbconvert_exporter": "python",
   "pygments_lexer": "ipython3",
   "version": "3.7.1"
  }
 },
 "nbformat": 4,
 "nbformat_minor": 2
}
