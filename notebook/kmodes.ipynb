{
 "cells": [
  {
   "cell_type": "code",
   "execution_count": 4,
   "metadata": {},
   "outputs": [],
   "source": [
    "%matplotlib inline\n",
    "\n",
    "import os\n",
    "import sys\n",
    "import pandas as pd\n",
    "import numpy as np\n",
    "from scipy.stats import entropy\n",
    "from kmodes.kmodes import KModes\n",
    "import matplotlib.pyplot as plt\n",
    "\n",
    "module_path = os.path.abspath(os.path.join('..'))\n",
    "src_path = '{}/src'.format(module_path)\n",
    "if module_path not in sys.path:\n",
    "    sys.path.append(src_path)\n",
    "\n",
    "plt.rcParams.update({'figure.max_open_warning': 0})"
   ]
  },
  {
   "cell_type": "markdown",
   "metadata": {},
   "source": [
    "## Carregando base e transformando colunas em categórico"
   ]
  },
  {
   "cell_type": "code",
   "execution_count": 2,
   "metadata": {},
   "outputs": [],
   "source": [
    "ndp_path = '{}/data/processed/d_dataset_ndp.csv'.format(module_path)\n",
    "dp_path = '{}/data/processed/d_dataset_dp.csv'.format(module_path)\n",
    "\n",
    "df_ndp = pd.read_csv(ndp_path)\n",
    "df_dp = pd.read_csv(dp_path)\n",
    "\n",
    "# Transformando em categórico\n",
    "df_ndp = df_ndp.astype('category')"
   ]
  },
  {
   "cell_type": "markdown",
   "metadata": {},
   "source": [
    "## Execução do KModes"
   ]
  },
  {
   "cell_type": "code",
   "execution_count": 16,
   "metadata": {},
   "outputs": [
    {
     "data": {
      "image/png": "[encoded data removed]",
      "text/plain": [
       "<Figure size 432x288 with 1 Axes>"
      ]
     },
     "metadata": {
      "needs_background": "light"
     },
     "output_type": "display_data"
    }
   ],
   "source": [
    "x = [i for i in range(2, 20)] # valores de k\n",
    "y = [] # Custos para cada valor de k\n",
    "for k in x:\n",
    "    km = KModes(n_clusters=k, init='Huang', n_init=10, verbose=0)\n",
    "    km.fit_predict(df_ndp)\n",
    "    y.append(km.cost_)\n",
    "\n",
    "plt.plot(x, y)\n",
    "plt.ylabel('Custo')\n",
    "plt.xlabel('K')\n",
    "plt.show()"
   ]
  },
  {
   "cell_type": "code",
   "execution_count": 7,
   "metadata": {},
   "outputs": [
    {
     "name": "stdout",
     "output_type": "stream",
     "text": [
      "0.679778902103923\n",
      "0.6384698816019849\n",
      "0.6743878150686079\n",
      "0.4261626606619693\n"
     ]
    }
   ],
   "source": [
    "k = 4 # Quantidade de clusters\n",
    "km = KModes(n_clusters=k, init='Huang', n_init=100, verbose=0)\n",
    "labels = km.fit_predict(df_ndp)\n",
    "centroids = km.cluster_centroids_\n",
    "\n",
    "# Classificações em cada cluster\n",
    "cluster = [ { 'size': 0, 'dp': 0, 'ndp': 0 }  for _ in range(k) ]\n",
    "for instance, label in enumerate(labels):\n",
    "    cluster[label]['size'] += 1\n",
    "    \n",
    "    if df_dp.iloc[instance].Diagnosticado_Depressao == 1:\n",
    "        cluster[label]['dp'] += 1\n",
    "    else:\n",
    "        cluster[label]['ndp'] += 1\n",
    "        \n",
    "# Probabilidades c/ depressão e s/ depressão por cluster\n",
    "prob = [ [ cluster[i]['dp'] / cluster[i]['size'], \n",
    "           cluster[i]['ndp'] / cluster[i]['size']\n",
    "         ] for i in range(k) ]\n",
    "\n",
    "for p in prob:\n",
    "    print(entropy(p))"
   ]
  },
  {
   "cell_type": "code",
   "execution_count": null,
   "metadata": {},
   "outputs": [],
   "source": []
  }
 ],
 "metadata": {
  "kernelspec": {
   "display_name": "Python 3",
   "language": "python",
   "name": "python3"
  },
  "language_info": {
   "codemirror_mode": {
    "name": "ipython",
    "version": 3
   },
   "file_extension": ".py",
   "mimetype": "text/x-python",
   "name": "python",
   "nbconvert_exporter": "python",
   "pygments_lexer": "ipython3",
   "version": "3.7.3"
  }
 },
 "nbformat": 4,
 "nbformat_minor": 2
}
