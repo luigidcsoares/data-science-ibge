{
 "cells": [
  {
   "cell_type": "code",
   "execution_count": 1,
   "metadata": {
    "attributes": {
     "classes": [],
     "id": "",
     "n": "1"
    }
   },
   "outputs": [],
   "source": [
    "%matplotlib inline\n",
    "\n",
    "import os\n",
    "import sys\n",
    "import math\n",
    "import pandas as pd\n",
    "import numpy as np\n",
    "import multiprocessing as mp\n",
    "import matplotlib.pyplot as plt\n",
    "from functools import partial\n",
    "\n",
    "module_path = os.path.abspath(os.path.join('..'))\n",
    "src_path = '{}/src'.format(module_path)\n",
    "if module_path not in sys.path:\n",
    "    sys.path.append(src_path)\n",
    "    \n",
    "from preprocessing import select, discretize\n",
    "from consts import dataset, model_cols\n",
    "\n",
    "plt.rcParams.update({'figure.max_open_warning': 0})"
   ]
  },
  {
   "cell_type": "markdown",
   "metadata": {},
   "source": [
    "# Preparando a base de dados.\n",
    "## Selecionando os atributos identificados como relevantes.\n",
    "\n",
    "- Primeiro vamos definir as colunas a serem utilizadas;\n",
    "- Depois, vamos utilizar\n",
    "pequenos chunks para processar a base;\n",
    "- Por fim, vamos salvar o arquivo\n",
    "processado;\n",
    "- No caso de já existir um arquivo CSV, ele será carregado."
   ]
  },
  {
   "cell_type": "code",
   "execution_count": 2,
   "metadata": {
    "attributes": {
     "classes": [],
     "id": "",
     "n": "11"
    }
   },
   "outputs": [],
   "source": [
    "save_path = '{}/data/processed/database.csv'.format(module_path)\n",
    "load_path ='{}/data/raw/pessoas.txt'.format(module_path)\n",
    "\n",
    "try:\n",
    "    df_database = pd.read_csv(save_path)\n",
    "except FileNotFoundError:\n",
    "    # Preparando para processar o arquivo original.\n",
    "    chunksize = 500\n",
    "    pool = mp.Pool(mp.cpu_count())\n",
    "    reader = pd.read_fwf(\n",
    "        load_path,\n",
    "        widths=dataset['col_widths'],\n",
    "        names=dataset['col_names'],\n",
    "        chunksize=chunksize\n",
    "    )\n",
    "\n",
    "    # Processamento do arquivo original.\n",
    "    partial_select = partial(select, cols=model_cols)\n",
    "    df_database = pd.concat(pool.map(partial_select, reader))\n",
    "    df_database = df_database.replace('^\\.$', '', regex=True)\n",
    "\n",
    "    # Salvando arquivo processado.\n",
    "    df_database.to_csv(save_path, header=True, index=False)\n",
    "\n",
    "    # Dimensões da base\n",
    "    df_database.shape"
   ]
  },
  {
   "cell_type": "markdown",
   "metadata": {},
   "source": [
    "### Selecionando instâncias diagnosticadas com depressão\n",
    "\n",
    "- Primeiro, será feita uma query buscando as instâncias onde o campo Diagnosticado_Depressao é igual 1;\n",
    "- Depois, o resultado será salvo em um novo arquivo csv;\n",
    "- Caso o arquivo já exista, basta ser carregado."
   ]
  },
  {
   "cell_type": "code",
   "execution_count": 3,
   "metadata": {
    "attributes": {
     "classes": [],
     "id": "",
     "n": "14"
    }
   },
   "outputs": [
    {
     "data": {
      "text/plain": [
       "(4235, 68)"
      ]
     },
     "execution_count": 3,
     "metadata": {},
     "output_type": "execute_result"
    }
   ],
   "source": [
    "df_dep = df_database.query('Diagnosticado_Depressao == 1')\n",
    "df_dep.shape"
   ]
  },
  {
   "cell_type": "markdown",
   "metadata": {},
   "source": [
    "### Selecionando instâncias não diagnosticadas com depressão\n",
    "\n",
    "- Primeiro, será feita uma query buscando as instâncias onde o campo Diagnosticado_Depressao é igual 2;\n",
    "- Depois, o resultado será salvo em um novo arquivo csv;\n",
    "- Caso o arquivo já exista, basta ser carregado."
   ]
  },
  {
   "cell_type": "code",
   "execution_count": 4,
   "metadata": {},
   "outputs": [
    {
     "data": {
      "text/plain": [
       "(4235, 68)"
      ]
     },
     "execution_count": 4,
     "metadata": {},
     "output_type": "execute_result"
    }
   ],
   "source": [
    "df_ndep = df_database.query('Diagnosticado_Depressao == 2').sample(df_dep.shape[0])\n",
    "df_ndep.shape"
   ]
  },
  {
   "cell_type": "markdown",
   "metadata": {},
   "source": [
    "### Unindo as instâncias\n",
    "\n",
    "O objetivo é trabalhar com instâncias diagnosticadas ou não com depressão. Para tanto, iremos concatenar as duas bases geradas."
   ]
  },
  {
   "cell_type": "code",
   "execution_count": 103,
   "metadata": {},
   "outputs": [],
   "source": [
    "dataset_path = '{}/data/processed/nd_dataset.csv'.format(module_path)\n",
    "try:\n",
    "    df_dataset = pd.read_csv(dataset_path)\n",
    "except FileNotFoundError:\n",
    "    df_dataset = pd.concat([df_dep, df_ndep])\n",
    "    df_dataset.to_csv(dataset_path, header=True, index=False)\n",
    "    df_dataset.shape"
   ]
  },
  {
   "cell_type": "markdown",
   "metadata": {},
   "source": [
    "### Separando amostra de 1000 instâncias para análise"
   ]
  },
  {
   "cell_type": "code",
   "execution_count": 51,
   "metadata": {},
   "outputs": [
    {
     "data": {
      "text/plain": [
       "(1000, 68)"
      ]
     },
     "execution_count": 51,
     "metadata": {},
     "output_type": "execute_result"
    }
   ],
   "source": [
    "sample_path = '{}/data/processed/sample.csv'.format(module_path)\n",
    "try:\n",
    "    df_sample = pd.read_csv(sample_path)\n",
    "except FileNotFoundError:\n",
    "    df_sample = df_dataset.sample(1000)\n",
    "    df_sample.to_csv(sample_path, header=True, index=False)\n",
    "    df_sample.shape"
   ]
  },
  {
   "cell_type": "markdown",
   "metadata": {},
   "source": [
    "### Pré-processamento da base\n",
    "\n",
    "(a) Primeiro iremos remover os _outliers_"
   ]
  },
  {
   "cell_type": "code",
   "execution_count": 87,
   "metadata": {},
   "outputs": [
    {
     "name": "stdout",
     "output_type": "stream",
     "text": [
      "(8289, 68)\n"
     ]
    }
   ],
   "source": [
    "# Após a primeira passada, instâncias que antes não eram consideradas outliers podem passar a ser.\n",
    "# Por esse motivo, precisamos rodar até que não haja alteração na base.\n",
    "comparator = -1\n",
    "nrows = df_dataset.shape[0]\n",
    "\n",
    "while comparator != nrows:\n",
    "    comparator = nrows\n",
    "    \n",
    "    for col in ['Idade', 'Parou_Menstruar', 'Uso_Quantos_Dias_Remedio_Dormir', 'Idade_Gravidez']:\n",
    "        df_outliers = df_dataset[col]\n",
    "        limiar = 3 * df_outliers.std()\n",
    "        mean = df_outliers.mean()\n",
    "        outliers = (df_outliers < mean - limiar) | (df_outliers > mean + limiar)\n",
    "\n",
    "        # Recupera apenas instâncias positivas (outliers).\n",
    "        outliers = outliers[outliers]\n",
    "\n",
    "        # Remove instâncias que são outliers.\n",
    "        df_dataset = df_dataset.drop(outliers.index)\n",
    "        \n",
    "    nrows = df_dataset.shape[0]\n",
    "    \n",
    "print(df_dataset.shape)"
   ]
  },
  {
   "cell_type": "markdown",
   "metadata": {},
   "source": [
    "(b) Agora, removeremos o atributo \"Idade de Gravidez\", uma vez que seu poder discriminativo é inferior ao limiar de 0,5"
   ]
  },
  {
   "cell_type": "code",
   "execution_count": 88,
   "metadata": {},
   "outputs": [
    {
     "name": "stdout",
     "output_type": "stream",
     "text": [
      "(8289, 67)\n"
     ]
    }
   ],
   "source": [
    "df_dataset = df_dataset.drop(['Idade_Gravidez'], axis=1)\n",
    "print(df_dataset.shape)"
   ]
  },
  {
   "cell_type": "markdown",
   "metadata": {},
   "source": [
    "(c) Removendo atributos com porcentagem de dados ausentes > 80"
   ]
  },
  {
   "cell_type": "code",
   "execution_count": 89,
   "metadata": {},
   "outputs": [
    {
     "name": "stdout",
     "output_type": "stream",
     "text": [
      "32\n"
     ]
    },
    {
     "data": {
      "text/plain": [
       "(8289, 35)"
      ]
     },
     "execution_count": 89,
     "metadata": {},
     "output_type": "execute_result"
    }
   ],
   "source": [
    "n = df_dataset.shape[0]\n",
    "missing_vals = ((n - df_dataset.count()) / df_dataset.shape[0]) * 100\n",
    "cols = { 0: 'Porcentagem' }\n",
    "\n",
    "limiar = missing_vals[missing_vals > 80]\n",
    "print(len(limiar.index.tolist()))\n",
    "\n",
    "df_dataset = df_dataset.drop(limiar.index.tolist(), axis=1)\n",
    "df_dataset.shape"
   ]
  },
  {
   "cell_type": "markdown",
   "metadata": {},
   "source": [
    "(d) Alguns atributos são relacionados especificamente ao sexo feminino. Por esse motivo, o volume de dados ausentes pode ser elevado. Assim, Iremos agrupar os atributos que se assemelham (quando existentes) e associá-los com o sexo da seguinte forma:\n",
    "\n",
    "  - 0: Sexo masculino;\n",
    "  - 1: Sexo feminino + atributo positivo;\n",
    "  - 2: Sexo feminino + atributo negativo;\n",
    "  \n",
    "&nbsp; &nbsp; &nbsp; &nbsp; (i) Aborto Espontâneo e Provocado => Aborto/Sexo"
   ]
  },
  {
   "cell_type": "code",
   "execution_count": 90,
   "metadata": {},
   "outputs": [
    {
     "data": {
      "text/plain": [
       "8289"
      ]
     },
     "execution_count": 90,
     "metadata": {},
     "output_type": "execute_result"
    }
   ],
   "source": [
    "df_dataset.loc[df_dataset.Sexo == 1, 'Aborto'] = 0\n",
    "df_dataset.loc[(df_dataset.Sexo == 2)\n",
    "               & ((df_dataset.Aborto_Espontaneo == 1)\n",
    "                  | (df_dataset.Aborto_Provocado == 1)), 'Aborto'] = 1\n",
    "df_dataset.loc[df_dataset['Aborto'].isnull(), 'Aborto'] = 2\n",
    "\n",
    "# Drop old attributes.\n",
    "df_dataset = df_dataset.drop(['Aborto_Espontaneo', 'Aborto_Provocado'], axis=1)\n",
    "\n",
    "df_dataset['Aborto'].count()"
   ]
  },
  {
   "cell_type": "markdown",
   "metadata": {},
   "source": [
    "&nbsp; &nbsp; &nbsp; &nbsp; (ii) Já utilizou algum método para evitar gravidez?"
   ]
  },
  {
   "cell_type": "code",
   "execution_count": 91,
   "metadata": {},
   "outputs": [
    {
     "data": {
      "text/plain": [
       "5442"
      ]
     },
     "execution_count": 91,
     "metadata": {},
     "output_type": "execute_result"
    }
   ],
   "source": [
    "df_dataset.loc[df_dataset.Sexo == 1, 'Evitar_Gravidez'] = 0\n",
    "df_dataset['Evitar_Gravidez'].count()"
   ]
  },
  {
   "cell_type": "markdown",
   "metadata": {},
   "source": [
    "&nbsp; &nbsp; &nbsp; &nbsp; (iii) Já ficou grávida?"
   ]
  },
  {
   "cell_type": "code",
   "execution_count": 92,
   "metadata": {},
   "outputs": [
    {
     "data": {
      "text/plain": [
       "6083"
      ]
     },
     "execution_count": 92,
     "metadata": {},
     "output_type": "execute_result"
    }
   ],
   "source": [
    "df_dataset.loc[df_dataset.Sexo == 1, 'Ja_Engravidou'] = 0\n",
    "df_dataset['Ja_Engravidou'].count()"
   ]
  },
  {
   "cell_type": "markdown",
   "metadata": {},
   "source": [
    "&nbsp; &nbsp; &nbsp; &nbsp; (iii) Ainda menstrua + parou de menstruar + entrou em menopausa ==> ainda menstrua"
   ]
  },
  {
   "cell_type": "code",
   "execution_count": 93,
   "metadata": {},
   "outputs": [
    {
     "data": {
      "text/plain": [
       "1.0    4741\n",
       "0.0    2767\n",
       "2.0     187\n",
       "Name: Ainda_Menstrua, dtype: int64"
      ]
     },
     "execution_count": 93,
     "metadata": {},
     "output_type": "execute_result"
    }
   ],
   "source": [
    "df_dataset.loc[df_dataset.Sexo == 1, 'Ainda_Menstrua'] = 0\n",
    "df_dataset.loc[(df_dataset.Sexo == 2)\n",
    "               & (df_dataset.Entrou_Menopausa == 1), 'Ainda_Menstrua'] = 1\n",
    "df_dataset = df_dataset.drop(['Parou_Menstruar', 'Entrou_Menopausa'], axis=1)\n",
    "\n",
    "df_dataset['Ainda_Menstrua'].value_counts()"
   ]
  },
  {
   "cell_type": "markdown",
   "metadata": {},
   "source": [
    "(e) Iremos unificar, também, outros atributos gerais com quantidade alta de dados ausentes:  \n",
    "&nbsp; &nbsp; &nbsp; &nbsp; (i) Uso de remédio para dormir + Quantidade de dias;"
   ]
  },
  {
   "cell_type": "code",
   "execution_count": 94,
   "metadata": {},
   "outputs": [
    {
     "data": {
      "text/plain": [
       "(8289, 31)"
      ]
     },
     "execution_count": 94,
     "metadata": {},
     "output_type": "execute_result"
    }
   ],
   "source": [
    "# Se o indivíduo não usou remédio para dormir as últimas duas semanas (valor 2), então iremos setar a quantidade\n",
    "# de dias como 0.\n",
    "df_dataset.loc[df_dataset.Uso_Remedio_Dormir == 2, 'Uso_Quantos_Dias_Remedio_Dormir'] = 0\n",
    "df_dataset = df_dataset.drop('Uso_Remedio_Dormir', axis=1)\n",
    "df_dataset.shape"
   ]
  },
  {
   "cell_type": "markdown",
   "metadata": {},
   "source": [
    "&nbsp; &nbsp; &nbsp; &nbsp; (i) Ativ_Fisica_3meses + Ativ_Fisica_Semana => Ativ_Fisica (desconsideraremos qual atividade física)"
   ]
  },
  {
   "cell_type": "code",
   "execution_count": 95,
   "metadata": {},
   "outputs": [
    {
     "data": {
      "text/plain": [
       "8289"
      ]
     },
     "execution_count": 95,
     "metadata": {},
     "output_type": "execute_result"
    }
   ],
   "source": [
    "# Se não praticou atividade física nos últimos meses, #atividade_fisicas_na_semana = 0\n",
    "df_dataset.loc[df_dataset.Ativ_Fisica_3meses == 2, 'Ativ_Fisica_Semana'] = 0\n",
    "\n",
    "df_dataset = df_dataset.drop(['Ativ_Fisica_3meses', 'Ativ_Fisica_Qual'], axis=1)\n",
    "\n",
    "df_dataset['Ativ_Fisica_Semana'].count()"
   ]
  },
  {
   "cell_type": "markdown",
   "metadata": {},
   "source": [
    "### Iremos remover os atributos \"Toma_Remedio_Hipertensao\" e \"Execício Pesado\", pelo alto volume de dados ausentes. Além disso, vamos remover o atributo 'Evitar_Gravidez', pelo alto volume de dados ausentes e por já existir na base muitos atributos relacionados exclusivamente ao sexo feminino."
   ]
  },
  {
   "cell_type": "code",
   "execution_count": 96,
   "metadata": {},
   "outputs": [
    {
     "data": {
      "text/plain": [
       "(8289, 26)"
      ]
     },
     "execution_count": 96,
     "metadata": {},
     "output_type": "execute_result"
    }
   ],
   "source": [
    "df_dataset = df_dataset.drop(['Toma_Remedio_Hipertensao', 'Exercicio_Pesado', 'Evitar_Gravidez'], axis=1)\n",
    "df_dataset.shape"
   ]
  },
  {
   "cell_type": "markdown",
   "metadata": {},
   "source": [
    "### Vamos, ainda, remover as instâncias com dados ausentes restantes"
   ]
  },
  {
   "cell_type": "code",
   "execution_count": 97,
   "metadata": {},
   "outputs": [
    {
     "data": {
      "text/plain": [
       "(5263, 26)"
      ]
     },
     "execution_count": 97,
     "metadata": {},
     "output_type": "execute_result"
    }
   ],
   "source": [
    "for col in list(df_dataset):\n",
    "    df_dataset = df_dataset.drop(df_dataset[df_dataset[col].isnull()].index.tolist())\n",
    "   \n",
    "df_dataset.shape"
   ]
  },
  {
   "cell_type": "markdown",
   "metadata": {},
   "source": [
    "### Por fim, vamos remover os atributos \"Região\", uma vez que é usado apenas para análises"
   ]
  },
  {
   "cell_type": "code",
   "execution_count": 98,
   "metadata": {},
   "outputs": [
    {
     "data": {
      "text/plain": [
       "(5263, 25)"
      ]
     },
     "execution_count": 98,
     "metadata": {},
     "output_type": "execute_result"
    }
   ],
   "source": [
    "df_dataset = df_dataset.drop(['Regiao'], axis=1)\n",
    "df_dataset.shape"
   ]
  },
  {
   "cell_type": "code",
   "execution_count": 99,
   "metadata": {},
   "outputs": [
    {
     "data": {
      "text/html": [
       "<div>\n",
       "<style scoped>\n",
       "    .dataframe tbody tr th:only-of-type {\n",
       "        vertical-align: middle;\n",
       "    }\n",
       "\n",
       "    .dataframe tbody tr th {\n",
       "        vertical-align: top;\n",
       "    }\n",
       "\n",
       "    .dataframe thead th {\n",
       "        text-align: right;\n",
       "    }\n",
       "</style>\n",
       "<table border=\"1\" class=\"dataframe\">\n",
       "  <thead>\n",
       "    <tr style=\"text-align: right;\">\n",
       "      <th></th>\n",
       "      <th>Porcentagem</th>\n",
       "    </tr>\n",
       "  </thead>\n",
       "  <tbody>\n",
       "    <tr>\n",
       "      <th>Diagnosticado_Depressao</th>\n",
       "      <td>0.0</td>\n",
       "    </tr>\n",
       "    <tr>\n",
       "      <th>Defic_Intelectual</th>\n",
       "      <td>0.0</td>\n",
       "    </tr>\n",
       "    <tr>\n",
       "      <th>Doença_Fisica_Cronica_Mental</th>\n",
       "      <td>0.0</td>\n",
       "    </tr>\n",
       "    <tr>\n",
       "      <th>Esqz_Bipol_Psicose_TOC</th>\n",
       "      <td>0.0</td>\n",
       "    </tr>\n",
       "    <tr>\n",
       "      <th>Diagnostico_Doenca_Coracao</th>\n",
       "      <td>0.0</td>\n",
       "    </tr>\n",
       "    <tr>\n",
       "      <th>Diagnostico_Doença_Pulmao</th>\n",
       "      <td>0.0</td>\n",
       "    </tr>\n",
       "    <tr>\n",
       "      <th>Diagnostico_Cancer</th>\n",
       "      <td>0.0</td>\n",
       "    </tr>\n",
       "    <tr>\n",
       "      <th>Diagnostico_Insuf_Renal_Cronica</th>\n",
       "      <td>0.0</td>\n",
       "    </tr>\n",
       "    <tr>\n",
       "      <th>Duas_Semanas_Cansado</th>\n",
       "      <td>0.0</td>\n",
       "    </tr>\n",
       "    <tr>\n",
       "      <th>Duas_Semanas _Problema_Sono</th>\n",
       "      <td>0.0</td>\n",
       "    </tr>\n",
       "    <tr>\n",
       "      <th>Cansado_Subir_Andar_Dor_Peito</th>\n",
       "      <td>0.0</td>\n",
       "    </tr>\n",
       "    <tr>\n",
       "      <th>Lentidao_Agitacao_Ultimas_Semanas</th>\n",
       "      <td>0.0</td>\n",
       "    </tr>\n",
       "    <tr>\n",
       "      <th>Uso_Quantos_Dias_Remedio_Dormir</th>\n",
       "      <td>0.0</td>\n",
       "    </tr>\n",
       "    <tr>\n",
       "      <th>Ja_Engravidou</th>\n",
       "      <td>0.0</td>\n",
       "    </tr>\n",
       "    <tr>\n",
       "      <th>Diagnosticado_AVC_Derrame</th>\n",
       "      <td>0.0</td>\n",
       "    </tr>\n",
       "    <tr>\n",
       "      <th>Sofreu_Violencia_Pessoa_Desconhecida</th>\n",
       "      <td>0.0</td>\n",
       "    </tr>\n",
       "    <tr>\n",
       "      <th>Sofreu_Violencia_Pessoa_Conhecida</th>\n",
       "      <td>0.0</td>\n",
       "    </tr>\n",
       "    <tr>\n",
       "      <th>Ainda_Menstrua</th>\n",
       "      <td>0.0</td>\n",
       "    </tr>\n",
       "    <tr>\n",
       "      <th>Sexo</th>\n",
       "      <td>0.0</td>\n",
       "    </tr>\n",
       "    <tr>\n",
       "      <th>Tem_Diabetes</th>\n",
       "      <td>0.0</td>\n",
       "    </tr>\n",
       "    <tr>\n",
       "      <th>Falta_Apetite</th>\n",
       "      <td>0.0</td>\n",
       "    </tr>\n",
       "    <tr>\n",
       "      <th>Frequenta_Escola</th>\n",
       "      <td>0.0</td>\n",
       "    </tr>\n",
       "    <tr>\n",
       "      <th>Idade</th>\n",
       "      <td>0.0</td>\n",
       "    </tr>\n",
       "    <tr>\n",
       "      <th>Ativ_Fisica_Semana</th>\n",
       "      <td>0.0</td>\n",
       "    </tr>\n",
       "    <tr>\n",
       "      <th>Aborto</th>\n",
       "      <td>0.0</td>\n",
       "    </tr>\n",
       "  </tbody>\n",
       "</table>\n",
       "</div>"
      ],
      "text/plain": [
       "                                      Porcentagem\n",
       "Diagnosticado_Depressao                       0.0\n",
       "Defic_Intelectual                             0.0\n",
       "Doença_Fisica_Cronica_Mental                  0.0\n",
       "Esqz_Bipol_Psicose_TOC                        0.0\n",
       "Diagnostico_Doenca_Coracao                    0.0\n",
       "Diagnostico_Doença_Pulmao                     0.0\n",
       "Diagnostico_Cancer                            0.0\n",
       "Diagnostico_Insuf_Renal_Cronica               0.0\n",
       "Duas_Semanas_Cansado                          0.0\n",
       "Duas_Semanas _Problema_Sono                   0.0\n",
       "Cansado_Subir_Andar_Dor_Peito                 0.0\n",
       "Lentidao_Agitacao_Ultimas_Semanas             0.0\n",
       "Uso_Quantos_Dias_Remedio_Dormir               0.0\n",
       "Ja_Engravidou                                 0.0\n",
       "Diagnosticado_AVC_Derrame                     0.0\n",
       "Sofreu_Violencia_Pessoa_Desconhecida          0.0\n",
       "Sofreu_Violencia_Pessoa_Conhecida             0.0\n",
       "Ainda_Menstrua                                0.0\n",
       "Sexo                                          0.0\n",
       "Tem_Diabetes                                  0.0\n",
       "Falta_Apetite                                 0.0\n",
       "Frequenta_Escola                              0.0\n",
       "Idade                                         0.0\n",
       "Ativ_Fisica_Semana                            0.0\n",
       "Aborto                                        0.0"
      ]
     },
     "execution_count": 99,
     "metadata": {},
     "output_type": "execute_result"
    }
   ],
   "source": [
    "n = df_dataset.shape[0]\n",
    "missing_vals = ((n - df_dataset.count()) / df_dataset.shape[0]) * 100\n",
    "cols = { 0: 'Porcentagem' }\n",
    "\n",
    "select(missing_vals.to_frame(), cols)"
   ]
  },
  {
   "cell_type": "markdown",
   "metadata": {},
   "source": [
    "## Discretizando atributos numéricos"
   ]
  },
  {
   "cell_type": "code",
   "execution_count": 101,
   "metadata": {},
   "outputs": [
    {
     "data": {
      "text/html": [
       "<div>\n",
       "<style scoped>\n",
       "    .dataframe tbody tr th:only-of-type {\n",
       "        vertical-align: middle;\n",
       "    }\n",
       "\n",
       "    .dataframe tbody tr th {\n",
       "        vertical-align: top;\n",
       "    }\n",
       "\n",
       "    .dataframe thead th {\n",
       "        text-align: right;\n",
       "    }\n",
       "</style>\n",
       "<table border=\"1\" class=\"dataframe\">\n",
       "  <thead>\n",
       "    <tr style=\"text-align: right;\">\n",
       "      <th></th>\n",
       "      <th>Idade</th>\n",
       "      <th>Uso_Quantos_Dias_Remedio_Dormir</th>\n",
       "    </tr>\n",
       "  </thead>\n",
       "  <tbody>\n",
       "    <tr>\n",
       "      <th>0</th>\n",
       "      <td>[18, 32)</td>\n",
       "      <td>[5, 10)</td>\n",
       "    </tr>\n",
       "    <tr>\n",
       "      <th>1</th>\n",
       "      <td>[76, 91)</td>\n",
       "      <td>[5, 10)</td>\n",
       "    </tr>\n",
       "    <tr>\n",
       "      <th>2</th>\n",
       "      <td>[47, 61)</td>\n",
       "      <td>[0, 5)</td>\n",
       "    </tr>\n",
       "    <tr>\n",
       "      <th>5</th>\n",
       "      <td>[32, 47)</td>\n",
       "      <td>[10, 15)</td>\n",
       "    </tr>\n",
       "    <tr>\n",
       "      <th>6</th>\n",
       "      <td>[18, 32)</td>\n",
       "      <td>[0, 5)</td>\n",
       "    </tr>\n",
       "  </tbody>\n",
       "</table>\n",
       "</div>"
      ],
      "text/plain": [
       "      Idade Uso_Quantos_Dias_Remedio_Dormir\n",
       "0  [18, 32)                         [5, 10)\n",
       "1  [76, 91)                         [5, 10)\n",
       "2  [47, 61)                          [0, 5)\n",
       "5  [32, 47)                        [10, 15)\n",
       "6  [18, 32)                          [0, 5)"
      ]
     },
     "execution_count": 101,
     "metadata": {},
     "output_type": "execute_result"
    }
   ],
   "source": [
    "df_final = df_dataset.copy()\n",
    "\n",
    "# Idade.\n",
    "bins = np.linspace(df_dataset['Idade'].min(), df_dataset['Idade'].max() + 1, 6, dtype=int)\n",
    "df_final['Idade'] = discretize(df_dataset, 'Idade', bins)\n",
    "\n",
    "# Qtd. dias de uso remédio para dormir\n",
    "bins = np.linspace(df_dataset['Uso_Quantos_Dias_Remedio_Dormir'].min(), \n",
    "                   df_dataset['Uso_Quantos_Dias_Remedio_Dormir'].max() + 1, 4, dtype=int)\n",
    "\n",
    "df_final['Uso_Quantos_Dias_Remedio_Dormir'] = discretize(df_dataset, 'Uso_Quantos_Dias_Remedio_Dormir', bins)\n",
    "df_final[['Idade', 'Uso_Quantos_Dias_Remedio_Dormir']].head(5)"
   ]
  },
  {
   "cell_type": "markdown",
   "metadata": {},
   "source": [
    "## Salvando a base final"
   ]
  },
  {
   "cell_type": "code",
   "execution_count": 106,
   "metadata": {},
   "outputs": [
    {
     "data": {
      "text/plain": [
       "(5263, 25)"
      ]
     },
     "execution_count": 106,
     "metadata": {},
     "output_type": "execute_result"
    }
   ],
   "source": [
    "# Sem discretização\n",
    "non_discretized = dataset_path = '{}/data/processed/nd_dataset.csv'.format(module_path)\n",
    "df_dataset.to_csv(non_discretized, header=True, index=False)\n",
    "\n",
    "# Com discretização + diag. depressão\n",
    "discretized_dp = dataset_path = '{}/data/processed/d_dataset_dp.csv'.format(module_path)\n",
    "df_final.to_csv(discretized_dp, header=True, index=False)\n",
    "\n",
    "# Com discretização - diag. depressão\n",
    "discretized_ndp = dataset_path = '{}/data/processed/d_dataset_ndp.csv'.format(module_path)\n",
    "df_final.drop('Diagnosticado_Depressao', axis=1).to_csv(discretized_ndp, header=True, index=False)\n",
    "\n",
    "\n",
    "df_final.shape"
   ]
  },
  {
   "cell_type": "code",
   "execution_count": null,
   "metadata": {},
   "outputs": [],
   "source": []
  }
 ],
 "metadata": {
  "kernelspec": {
   "display_name": "Python 3",
   "language": "python",
   "name": "python3"
  },
  "language_info": {
   "codemirror_mode": {
    "name": "ipython",
    "version": 3
   },
   "file_extension": ".py",
   "mimetype": "text/x-python",
   "name": "python",
   "nbconvert_exporter": "python",
   "pygments_lexer": "ipython3",
   "version": "3.7.3"
  }
 },
 "nbformat": 4,
 "nbformat_minor": 2
}
