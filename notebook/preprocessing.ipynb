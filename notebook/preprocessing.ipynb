{
 "cells": [
  {
   "cell_type": "code",
   "execution_count": 1,
   "metadata": {
    "attributes": {
     "classes": [],
     "id": "",
     "n": "1"
    }
   },
   "outputs": [],
   "source": [
    "%matplotlib inline\n",
    "\n",
    "import os\n",
    "import sys\n",
    "import pandas as pd\n",
    "import multiprocessing as mp\n",
    "import matplotlib.pyplot as plt\n",
    "from functools import partial\n",
    "\n",
    "module_path = os.path.abspath(os.path.join('..'))\n",
    "src_path = '{}/src'.format(module_path)\n",
    "if module_path not in sys.path:\n",
    "    sys.path.append(src_path)\n",
    "    \n",
    "from preprocessing import select"
   ]
  },
  {
   "cell_type": "markdown",
   "metadata": {},
   "source": [
    "### Primeiro precisamos definir os tamanhos de cada campo"
   ]
  },
  {
   "cell_type": "code",
   "execution_count": 2,
   "metadata": {
    "attributes": {
     "classes": [],
     "id": "",
     "n": "2"
    }
   },
   "outputs": [],
   "source": [
    "widths = [\n",
    "    # Identificação de controle.\n",
    "    2, 8, 7, 4, 9, 1,\n",
    "\n",
    "    # Módulo C - Características gerais dos moradores.\n",
    "    2, 2, 2, 1, 2, 2, 4, 3, 1, 1, 1, 1,\n",
    "\n",
    "    # Módulo D - Características de educação das pessoas de 5 anos ou mais de\n",
    "    # idade.\n",
    "    1, 1, 1, 1, 1, 1, 1, 1, 2, 1, 1, 1, 1, 1, 1,\n",
    "\n",
    "    # Módulo E - Trabalho dos moradores do domicílio.\n",
    "    1, 1, 1, 1, 1, 1, 1, 1, 2, 2, 2, 1, 4, 1, 5, 1, 8, 1, 8, 1, 3, 1, 8, 1, 8,\n",
    "    1, 3, 1, 1, 1, 2, 2, 1, 2, 2, 1, 1,\n",
    "\n",
    "    # Módulo F - Rendimentos domiciliares.\n",
    "    1, 8, 1, 8, 1, 8, 1, 8, \n",
    "\n",
    "    # Módulo G - Pessoas com deficiências.\n",
    "    1, 1, 2, 1, 1, 1, 1, 1, 2, 2, 1, 1, 1, 1, 2, 1, 1, 1, 1, 1, 2, 1, 1, 1, 1,\n",
    "    1, 1, 1, 1,\n",
    "\n",
    "    # Módulo I - Cobertura de plano de saúde.\n",
    "    1, 2, 1, 1, 1, 1, 1, 2, 1, 2, 1, 1,\n",
    "\n",
    "    # Módulo J - Utilização de serviços de saúde.\n",
    "    1, 1, 2, 2, 1, 2, 1, 1, 1, 2, 1, 3, 1, 1, 2, 2, 1, 1, 2, 2, 1, 1, 1, 1, 1,\n",
    "    1, 2, 1, 1, 1, 1, 1, 1, 1, 2, 1, 2, 1, 2, 2, 1, 1, 1, 1, 1, 1, 1, 1, 1, 1,\n",
    "    1, 1, 1, 1, 1, 1, 1, 1, 1, 1,\n",
    "\n",
    "    # Módulo K - Saúdes dos indivíduos com 60 anos ou mais e cobertura de\n",
    "    # mamografia entre mulheres de 50 anos ou mais.\n",
    "    1, 1, 1, 1, 1, 1, 1, 1, 1, 1, 1, 1, 1, 1, 1, 1, 1, 1, 1, 1, 1, 1, 1, 1, 1,\n",
    "    1, 1, 1, 1, 1, 1, 1, 1, 1, 1, 1, 1, 1, 1, 1, 1, 1, 1, 1, 1, 1, 1, 1, 1, 1,\n",
    "    2, 1, 1, 1, 1, 1, 1, 2, 2, 2, 2, 2, 1,\n",
    "\n",
    "    # Módulo L - Crianças com menos de 2 anos.\n",
    "    2, 2, 2, 2, 1, 1, 1, 1, 1, 1, 1, 1, 1, 1, 1, 1, 2, 2, 4, 2, 2, 4, 2, 2, 4,\n",
    "    2, 2, 4, 1, 1, 1, 1, 1, 1, 1, 1, 1, 1, 1, 1, 1, 1, 1, 1, 1, 1, 1,\n",
    "\n",
    "    # Módulo M - Informações para futuros contatos,  características do trabalho\n",
    "    # e apoio social.\n",
    "    1, 1, 1, 1, 1, 1, 1, 1, 1, 1, 1, 1, 1, 1, 1, 1, 1, 2, 2, 2, 2, 2, 1, 1, 1,\n",
    "    1,\n",
    "\n",
    "    # Módulo N - Percepção do estado de saúde.\n",
    "    1, 1, 1, 1, 1, 1, 1, 1, 1, 1, 1, 1, 1, 1, 1, 1, 1, 1, 1, 1, 1, 1,\n",
    "\n",
    "    # Módulo O - Acidentes e violências.\n",
    "    1, 1, 1, 1, 1, 1, 1, 1, 1, 2, 1, 2, 1, 1, 1, 1, 2, 1, 2, 2, 1, 1, 1, 2, 1,\n",
    "    1, 1, 1, 1, 1, 1, 1, 1, 1, 1, 2, 1, 1, 1, 1, 1, 1, 1, 2, 1, 1, 1, 2, 1, 1,\n",
    "\n",
    "    # Módulo P - Estilos de vida.\n",
    "    1, 3, 1, 1, 3, 1, 3, 1, 1, 1, 1, 1, 1, 1, 1, 1, 1, 1, 1, 1, 1, 1, 1, 1, 1,\n",
    "    1, 1, 1, 1, 1, 1, 1, 2, 1, 2, 1, 1, 1, 1, 2, 2, 2, 1, 1, 1, 2, 2, 1, 2, 2,\n",
    "    1, 2, 2, 1, 1, 2, 2, 1, 1, 1, 1, 1, 1, 1, 1, 2, 1, 2, 2, 1, 2, 2, 1, 2, 2,\n",
    "    1, 2, 2, 1, 2, 2, 1, 2, 2, 1, 2, 2, 1, 1, 2, 2, 2, 2, 2, 9, 1, 2, 2, 2, 2,\n",
    "    2, 2, 1, 1, 1, 2, 1, 1, 1, 1, 1, 1, 1, 1, 1, 1, 1,\n",
    "\n",
    "    # Módulo Q - Doenças crônicas.\n",
    "    1, 1, 2, 1, 1, 1, 1, 1, 1, 1, 1, 2, 1, 1, 1, 1, 1, 1, 1, 1, 1, 1, 1, 1, 1,\n",
    "    1, 1, 1, 1, 1, 1, 2, 1, 1, 2, 1, 1, 1, 1, 1, 2, 1, 2, 1, 1, 1, 1, 1, 1, 1,\n",
    "    2, 1, 1, 1, 1, 1, 1, 1, 1, 1, 1, 1, 1, 1, 1, 1, 1, 1, 1, 1, 1, 2, 1, 1, 2,\n",
    "    1, 1, 1, 1, 1, 1, 1, 1, 1, 1, 1, 1, 1, 1, 1, 1, 2, 1, 1, 1, 1, 1, 1, 1, 1,\n",
    "    1, 1, 1, 2, 1, 1, 1, 1, 1, 1, 1, 2, 2, 1, 1, 1, 1, 1, 1, 1, 1, 1, 2, 1, 1,\n",
    "    1, 1, 1, 2, 1, 1, 1, 1, 1, 1, 1, 1, 2, 1, 1, 1, 1, 1, 1, 2, 1, 1, 1, 1, 1,\n",
    "    1, 2, 1, 2, 1, 1, 1, 1, 1, 1, 1, 2, 1, 1, 1, 1, 1, 2, 1, 1, 1, 1, 1, 1, 2,\n",
    "    1, 1, 1, 1, 1, 1, 1, 1, 1, 1, 2, 1, 1, 1, 1, 1, 1, 1, 2, 1, 1, 2, 1, 1, 1,\n",
    "    1, 1, 1, 1, 2, 1, 1, 2, 1, 1, 1, 2,\n",
    "\n",
    "    # Módulo R - Saúde da mulher (mulheres de 18 anos ou mais de idade).\n",
    "    1, 2, 1, 1, 1, 1, 1, 1, 2, 1, 1, 2, 1, 1, 1, 2, 1, 1, 1, 1, 1, 1, 1, 2, 2,\n",
    "    1, 2, 1, 1, 1, 1, 1, 1, 1, 1, 1, 1, 1, 1, 1, 1, 1, 1, 1, 1, 1, 1, 1, 1, 2,\n",
    "    1, 2, 1, 2, 2, 2, 2, 2, 2, 2, 2, 2, 4,\n",
    "\n",
    "    # Módulo S - Atendimento pré-natal.\n",
    "    1, 1, 2, 2, 1, 1, 1, 1, 1, 1, 1, 1, 1, 1, 1, 1, 1, 1, 1, 1, 1, 1, 1, 1, 1,\n",
    "    1, 1, 1, 2, 1, 1, 1, 1, 1, 1, 2, 1, 1, 1, 1, 1, 1, 1, 1, 1, 2, 1, 2, 1, 1,\n",
    "    1, 1, 2, 3, 3, 1, 1, 1, 1, 2, 1, 1, 1, 1, 1, 1, 1, 1,\n",
    "\n",
    "    # Módulo U - Saúde bucal.\n",
    "    1, 1, 1, 1, 1, 1, 1, 2, 2, 1, 1, 1, 2, 2, 2, 2, 1, 1, 1, 1, 1, 2, 1, 2, 1,\n",
    "\n",
    "    # Módulo X - Atendimento médico.\n",
    "    1, 1, 2, 1, 2, 1, 2, 1, 1, 1, 2, 2, 2, 2, 1, 1, 1, 1, 1, 1, 1, 1, 1, 1, 1,\n",
    "    1, 1, 1, 1, 1, 2, 1, 1, 1, 1, 1, 1, 1, 1, 1, 1, \n",
    "\n",
    "    # Módulo W - Informações laboratoriais.\n",
    "    5, 5, 5, 5, 5, 5, 5, 5, 5, 3, 3, 3, 3, 3, 3, 5, 5,\n",
    "\n",
    "    # Variáveis de amostragem.\n",
    "    14, 14, 14, 14, 9, 17, 3, 5,\n",
    "\n",
    "    # Variáveis derivadas de morador.\n",
    "    1, 1, 1, 8\n",
    "]"
   ]
  },
  {
   "cell_type": "markdown",
   "metadata": {},
   "source": [
    "### Também precisamos definir os nomes referentes a cada campo"
   ]
  },
  {
   "cell_type": "code",
   "execution_count": 3,
   "metadata": {
    "attributes": {
     "classes": [],
     "id": "",
     "n": "3"
    }
   },
   "outputs": [],
   "source": [
    "names = [\n",
    "    # Identificação de controle.\n",
    "    'V0001', 'V0024', 'UPA_PNS', 'V0006_PNS', 'UPA', 'V0025',\n",
    "\n",
    "    # Módulo C - Características gerais dos moradores.\n",
    "    'C001', 'C00301', 'C004', 'C006', 'C00701', 'C00702', 'C00703', 'C008',\n",
    "    'C009', 'C010', 'C011', 'C012',\n",
    "\n",
    "    # Módulo D - Características de educação das pessoas de 5 anos ou mais de\n",
    "    # idade.\n",
    "    'D001', 'D002', 'D003', 'D004', 'D005', 'D006', 'D007', 'D008', 'D009',\n",
    "    'D010', 'D011', 'D012', 'D013', 'D014', 'D015',\n",
    "\n",
    "    # Módulo E - Trabalho dos moradores do domicílio.\n",
    "    'E001', 'E002', 'E003', 'E004', 'E005', 'E006', 'E007', 'E008', 'E01001',\n",
    "    'E01002', 'E01003', 'E011', 'E01201', 'E014', 'E01501', 'E01601', 'E01602',\n",
    "    'E01603', 'E01604', 'E01605', 'E017', 'E01801', 'E01802', 'E01803',\n",
    "    'E01804', 'E01805', 'E019', 'E020', 'E021', 'E022', 'E023', 'E024', 'E025',\n",
    "    'E02501', 'E02502', 'E026', 'E027',\n",
    "\n",
    "    # Módulo F - Rendimentos domiciliares.\n",
    "    'F001', 'F00102', 'F007', 'F00702', 'F008', 'F00802', 'VDF001',\n",
    "    'VDF00102',\n",
    "\n",
    "    # Módulo G - Pessoas com deficiências.\n",
    "    'G001', 'G002', 'G00201', 'G003', 'G004', 'G005', 'G006', 'G007', 'G00701',\n",
    "    'G008', 'G009', 'G010', 'G014', 'G015', 'G01501', 'G016', 'G017', 'G018',\n",
    "    'G021', 'G022', 'G02201', 'G023', 'G024', 'G02501', 'G02502', 'G02503',\n",
    "    'G026', 'G027', 'G032',\n",
    "\n",
    "    # Módulo I - Cobertura de plano de saúde.\n",
    "    'I001', 'I002', 'I003', 'I004', 'I005', 'I006', 'I007', 'I00701', 'I008',\n",
    "    'I009', 'I010', 'I011',\n",
    "\n",
    "    # Módulo J - Utilização de serviços de saúde.\n",
    "    'J001', 'J002', 'J003', 'J004', 'J005', 'J006', 'J007', 'J008', 'J009',\n",
    "    'J010', 'J011', 'J012', 'J013', 'J014', 'J015', 'J016', 'J017', 'J018',\n",
    "    'J019', 'J020', 'J021', 'J022', 'J023', 'J024', 'J025', 'J026', 'J027',\n",
    "    'J029', 'J030', 'J031', 'J032', 'J033', 'J034', 'J035', 'J036', 'J037',\n",
    "    'J038', 'J039', 'J04001', 'J04002', 'J041', 'J042', 'J043', 'J044', 'J045',\n",
    "    'J046', 'J047', 'J048', 'J049', 'J050', 'J051', 'J052', 'J053', 'J054',\n",
    "    'J055', 'J056', 'J057', 'J058', 'J059', 'J060',\n",
    "\n",
    "    # Módulo K - Saúdes dos indivíduos com 60 anos ou mais e cobertura de\n",
    "    # mamografia entre mulheres de 50 anos ou mais.\n",
    "    'K001', 'K002', 'K003', 'K004', 'K005', 'K006', 'K007', 'K008', 'K009',\n",
    "    'K010', 'K011', 'K012', 'K013', 'K014', 'K015', 'K016', 'K017', 'K018',\n",
    "    'K019', 'K020', 'K021', 'K022', 'K023', 'K024', 'K025', 'K026', 'K027',\n",
    "    'K028', 'K029', 'K030', 'K031', 'K032', 'K033', 'K034', 'K035', 'K036',\n",
    "    'K039', 'K040', 'K041', 'K042', 'K043', 'K044', 'K045', 'K046', 'K047',\n",
    "    'K048', 'K049', 'K050', 'K051', 'K052', 'K053', 'K054', 'K055', 'K056',\n",
    "    'K057', 'K058', 'K059', 'K06001', 'K06002', 'K06003', 'K06101', 'K06102',\n",
    "    'K062',\n",
    "\n",
    "    # Módulo L - Crianças com menos de 2 anos.\n",
    "    'L00201', 'L00202', 'L00203', 'L003', 'L004', 'L005', 'L006', 'L007',\n",
    "    'L008', 'L009', 'L010', 'L011', 'L012', 'L013', 'L014', 'L015', 'L01613',\n",
    "    'L01614', 'L01615', 'L01616', 'L01617', 'L01618', 'L01619', 'L01620',\n",
    "    'L01621', 'L01622', 'L01623', 'L01624', 'L01701', 'L01702', 'L01703',\n",
    "    'L01704', 'L01705', 'L01706', 'L01707', 'L01708', 'L01709', 'L01710',\n",
    "    'L01711', 'L01712', 'L01713', 'L01714', 'L01715', 'L01716', 'L018', 'L019',\n",
    "    'L020',\n",
    "\n",
    "    # Módulo M - Informações para futuros contatos,  características do trabalho\n",
    "    # e apoio social.\n",
    "    'M001', 'M002', 'M003', 'M005', 'M006', 'M007', 'M008', 'M009', 'M010',\n",
    "    'M01101', 'M01102', 'M01103', 'M01104', 'M01105', 'M01106', 'M01107',\n",
    "    'M01108', 'M01301', 'M01302', 'M01303', 'M014', 'M015', 'M016', 'M017',\n",
    "    'M018', 'M019',\n",
    "\n",
    "    # Módulo N - Percepção do estado de saúde.\n",
    "    'N001', 'N002', 'N003', 'N004', 'N005', 'N006', 'N007', 'N008', 'N010',\n",
    "    'N011', 'N012', 'N013', 'N014', 'N015', 'N016', 'N017', 'N018', 'N019',\n",
    "    'N020', 'N021', 'N022', 'N023',\n",
    "\n",
    "    # Módulo O - Acidentes e violências.\n",
    "    'O001', 'O002', 'O003', 'O004', 'O005', 'O006', 'O007', 'O008', 'O009',\n",
    "    'O00901', 'O010', 'O011', 'O012', 'O013', 'O014', 'O015', 'O016', 'O017',\n",
    "    'O01801', 'O01802', 'O019', 'O020', 'O021', 'O02101', 'O022', 'O023',\n",
    "    'O024', 'O025', 'O027', 'O028', 'O029', 'O030', 'O031', 'O032', 'O033',\n",
    "    'O034', 'O035', 'O036', 'O037', 'O038', 'O039', 'O040', 'O041', 'O042',\n",
    "    'O043', 'O044', 'O045', 'O046', 'O047', 'O048',\n",
    "\n",
    "    # Módulo P - Estilos de vida.\n",
    "    'P001', 'P00101', 'P002', 'P003', 'P00301', 'P004', 'P00401',\n",
    "    'P005', 'P006', 'P007', 'P008', 'P009', 'P010', 'P011', 'P012',\n",
    "    'P013', 'P014', 'P015', 'P016', 'P017', 'P018', 'P019', 'P020',\n",
    "    'P021', 'P022', 'P023', 'P024', 'P025', 'P026', 'P02601', 'P027',\n",
    "    'P028', 'P029', 'P030', 'P031', 'P032', 'P033', 'P034', 'P035',\n",
    "    'P036', 'P03701', 'P03702', 'P038', 'P039', 'P03901', 'P03902',\n",
    "    'P03903', 'P040', 'P04101', 'P04102', 'P042', 'P04301', 'P04302',\n",
    "    'P044', 'P04401', 'P04403', 'P04404', 'P045', 'P046', 'P047',\n",
    "    'P048', 'P049', 'P050', 'P051', 'P052', 'P053', 'P05401', 'P05402',\n",
    "    'P05403', 'P05404', 'P05405', 'P05406', 'P05407', 'P05408',\n",
    "    'P05409', 'P05410', 'P05411', 'P05412', 'P05413', 'P05414',\n",
    "    'P05415', 'P05416', 'P05417', 'P05418', 'P05419', 'P05421',\n",
    "    'P05422', 'P055', 'P056', 'P05601', 'P05602', 'P05603', 'P05604',\n",
    "    'P05605', 'P057', 'P058', 'P05801', 'P05802', 'P05901', 'P05902',\n",
    "    'P05903', 'P05904', 'P060', 'P061', 'P062', 'P063', 'P064', 'P065',\n",
    "    'P066', 'P067', 'P068', 'P069', 'P07001', 'P07002', 'P07003',\n",
    "    'P071', 'P072',\n",
    "\n",
    "    # Módulo Q - Doenças crônicas.\n",
    "    'Q001', 'Q002', 'Q003', 'Q004', 'Q005', 'Q006', 'Q007', 'Q008', 'Q009',\n",
    "    'Q010', 'Q011', 'Q012', 'Q013', 'Q014', 'Q015', 'Q016', 'Q017', 'Q01801',\n",
    "    'Q01802', 'Q01803', 'Q01804', 'Q01805', 'Q01806', 'Q01807', 'Q01808',\n",
    "    'Q01901', 'Q01902', 'Q01903', 'Q01904', 'Q01905', 'Q020', 'Q021', 'Q022',\n",
    "    'Q023', 'Q024', 'Q026', 'Q027', 'Q028', 'Q029', 'Q030', 'Q031', 'Q032',\n",
    "    'Q033', 'Q03401', 'Q03402', 'Q035', 'Q036', 'Q037', 'Q038', 'Q039', 'Q040',\n",
    "    'Q041', 'Q042', 'Q043', 'Q044', 'Q045', 'Q04601', 'Q04602', 'Q04603',\n",
    "    'Q04604', 'Q04605', 'Q04606', 'Q04607', 'Q04608', 'Q04609', 'Q04701',\n",
    "    'Q04702', 'Q04703', 'Q04704', 'Q04705', 'Q048', 'Q049', 'Q050', 'Q051',\n",
    "    'Q052', 'Q053', 'Q054', 'Q05501', 'Q05502', 'Q05503', 'Q05504', 'Q05505',\n",
    "    'Q05506', 'Q05507', 'Q05508', 'Q05509', 'Q056', 'Q057', 'Q058', 'Q059',\n",
    "    'Q060', 'Q061', 'Q06201', 'Q06202', 'Q06203', 'Q06204', 'Q06205', 'Q06206',\n",
    "    'Q063', 'Q06301', 'Q06302', 'Q06303', 'Q06304', 'Q064', 'Q06501', 'Q06502',\n",
    "    'Q06503', 'Q06504', 'Q066', 'Q067', 'Q068', 'Q069', 'Q070', 'Q071',\n",
    "    'Q07201', 'Q07202', 'Q07203', 'Q07204', 'Q07205', 'Q07206', 'Q073', 'Q074',\n",
    "    'Q075', 'Q076', 'Q07701', 'Q07702', 'Q078', 'Q079', 'Q080', 'Q08101',\n",
    "    'Q08102', 'Q08103', 'Q08104', 'Q08105', 'Q082', 'Q083', 'Q084', 'Q085',\n",
    "    'Q08601', 'Q08603', 'Q08604', 'Q08605', 'Q087', 'Q088', 'Q089', 'Q09001',\n",
    "    'Q09003', 'Q09004', 'Q09005', 'Q091', 'Q092', 'Q093', 'Q094', 'Q095',\n",
    "    'Q09601', 'Q09602', 'Q09603', 'Q097', 'Q098', 'Q100', 'Q101', 'Q102',\n",
    "    'Q103', 'Q104', 'Q105', 'Q106', 'Q107', 'Q108', 'Q109', 'Q110', 'Q11001',\n",
    "    'Q11002', 'Q11003', 'Q11004', 'Q111', 'Q112', 'Q113', 'Q11401', 'Q11402',\n",
    "    'Q11403', 'Q115', 'Q116', 'Q11601', 'Q11602', 'Q11603', 'Q117', 'Q11801',\n",
    "    'Q11802', 'Q11803', 'Q11804', 'Q119', 'Q120', 'Q121', 'Q122', 'Q123',\n",
    "    'Q124', 'Q125', 'Q12601', 'Q12602', 'Q12603', 'Q12604', 'Q12605', 'Q127',\n",
    "    'Q128', 'Q130', 'Q131', 'Q132', 'Q133', 'Q134', 'Q135', 'Q136', 'Q137',\n",
    "\n",
    "    # Módulo R - Saúde da mulher (mulheres de 18 anos ou mais de idade).\n",
    "    'R001', 'R002', 'R003', 'R004', 'R005', 'R006', 'R007', 'R008', 'R009',\n",
    "    'R010', 'R011', 'R012', 'R013', 'R014', 'R015', 'R016', 'R017', 'R018',\n",
    "    'R019', 'R020', 'R021', 'R022', 'R023', 'R024', 'R025', 'R026', 'R027',\n",
    "    'R028', 'R029', 'R030', 'R031', 'R032', 'R033', 'R034', 'R035', 'R03601',\n",
    "    'R03602', 'R03603', 'R03604', 'R03605', 'R03606', 'R03607', 'R03608',\n",
    "    'R03609', 'R03610', 'R03611', 'R037', 'R038', 'R039', 'R040', 'R041',\n",
    "    'R04101', 'R042', 'R04201', 'R043', 'R044', 'R045', 'R046', 'R047', 'R048',\n",
    "    'R04901', 'R04902', 'R04903',\n",
    "\n",
    "    # Módulo S - Atendimento pré-natal.\n",
    "    'S001', 'S002', 'S003', 'S004', 'S005', 'S006', 'S007', 'S008', 'S009',\n",
    "    'S01001', 'S01002', 'S01003', 'S01004', 'S01005', 'S01101', 'S01102',\n",
    "    'S01103', 'S012', 'S013', 'S01401', 'S01402', 'S01403', 'S01404', 'S01405',\n",
    "    'S015', 'S016', 'S017', 'S018', 'S019', 'S020', 'S021', 'S022', 'S023',\n",
    "    'S024', 'S025', 'S026', 'S027', 'S028', 'S029', 'S030', 'S031', 'S032',\n",
    "    'S033', 'S034', 'S035', 'S036', 'S037', 'S038', 'S039', 'S040', 'S041',\n",
    "    'S042', 'S043', 'S044', 'S045', 'S046', 'S047', 'S048', 'S049', 'S050',\n",
    "    'S051', 'S052', 'S053', 'S054', 'S055', 'S056', 'S057', 'S058',\n",
    "\n",
    "    # Módulo U - Saúde bucal.\n",
    "    'U001', 'U00201', 'U00202', 'U00203', 'U004', 'U005', 'U006', 'U009',\n",
    "    'U010', 'U011', 'U014', 'U015', 'U01701', 'U01702', 'U01801', 'U01802',\n",
    "    'U019', 'U020', 'U021', 'U022', 'U023', 'U02301', 'U024', 'U02401',\n",
    "    'U025',\n",
    "\n",
    "    # Módulo X - Atendimento médico.\n",
    "    'X001', 'X002', 'X003', 'X004', 'X005', 'X006', 'X007', 'X008', 'X011',\n",
    "    'X012', 'X01401', 'X01402', 'X01501', 'X01502', 'X016', 'X017', 'X018',\n",
    "    'X019', 'X02001', 'X02002', 'X02003', 'X02004', 'X02005', 'X02006',\n",
    "    'X02201', 'X02202', 'X02203', 'X02204', 'X02205', 'X02206', 'X024',\n",
    "    'X02501', 'X02502', 'X02503', 'X02504', 'X02505', 'X02506', 'X02507',\n",
    "    'X02508', 'X02509', 'X02510',\n",
    "\n",
    "    # Módulo W - Informações laboratoriais.\n",
    "    'W00101', 'W00102', 'W00103', 'W00201', 'W00202', 'W00203', 'W00301',\n",
    "    'W00302', 'W00303', 'W00401', 'W00402', 'W00403', 'W00404', 'W00405',\n",
    "    'W00406', 'W00407', 'W00408',\n",
    "\n",
    "    # Variáveis de amostragem.\n",
    "    'V0028', 'V0029', 'V00281', 'V00291', 'V00282', 'V00292', 'V00283',\n",
    "    'V00293',\n",
    "\n",
    "    # Variáveis derivadas de morador.\n",
    "    'VDD004', 'VDE001', 'VDE002', 'VDDATAM'\n",
    "]"
   ]
  },
  {
   "cell_type": "markdown",
   "metadata": {},
   "source": [
    "## Preparando a base de dados.\n",
    "\n",
    "### Selecionando os atributos identificados como relevantes.\n",
    "\n",
    "- Primeiro vamos definir as colunas a serem utilizadas;\n",
    "- Depois, vamos utilizar\n",
    "pequenos chunks para processar a base;\n",
    "- Por fim, vamos salvar o arquivo\n",
    "processado;\n",
    "- No caso de já existir um arquivo CSV, ele será carregado."
   ]
  },
  {
   "cell_type": "code",
   "execution_count": 4,
   "metadata": {
    "attributes": {
     "classes": [],
     "id": "",
     "n": "11"
    }
   },
   "outputs": [],
   "source": [
    "var_path = '{}/data/processed/variaveis.csv'.format(module_path)\n",
    "\n",
    "try:\n",
    "    df_full = pd.read_csv(var_path)\n",
    "except FileNotFoundError:\n",
    "    cols = {\n",
    "        ### Depressão ###\n",
    "        'Q092': 'Diagnosticado_Depressao',\n",
    "        \n",
    "        ### Doença cerebral ###\n",
    "\n",
    "        'G001': 'Defic_Intelectual',\n",
    "        'G002': 'Nasceu_Ou_Adquiriu_Defic_Intelectual',\n",
    "        'G004': 'Defic_Intelectual_Limita_Atividades',\n",
    "        'J007': 'Doença_Fisica_Cronica_Mental',\n",
    "        'Q112': 'Visita_Medico',\n",
    "        'Q115': 'Doença_Cerebral_Limita',\n",
    "        'Q110': 'Esqz_Bipol_Psicose_TOC',\n",
    "        'Q11401': 'Psicoterapia_Doenca_Mental',\n",
    "        'Q11402': 'Medicamentos_Doenca_Mental',\n",
    "\n",
    "        ### Doenças sistêmicas ###\n",
    "\n",
    "        'Q063': 'Diagnostico_Doenca_Coracao',\n",
    "        'Q06301': 'Diagnostico_Infarto',\n",
    "        'Q06302': 'Diagnostico_Angina',\n",
    "        'Q06303': 'Diagnostico_Insuf_Cardiaca',\n",
    "        'Q116':  'Diagnostico_Doença_Pulmao',\n",
    "        'Q11601': 'Diagnostico_Enf_Pulmonar',\n",
    "        'Q11602': 'Diagnotico_Bronquite_Cronica',\n",
    "        'Q11603': 'Diagnostico_Outra_Pulmonar',\n",
    "        'Q120':  'Diagnostico_Cancer',\n",
    "        'Q124':  'Diagnostico_Insuf_Renal_Cronica',\n",
    "\n",
    "        ### Estresse Físico ###\n",
    "\n",
    "        'N004': 'Duas_Semanas_Cansado', \n",
    "        'N010': 'Duas_Semanas _Problema_Sono',\n",
    "        'N011': 'Cansado_Subir_Andar_Dor_Peito',\n",
    "        'P039': 'Exercicio_Pesado',\n",
    "\n",
    "        ## Estresse mental ###\n",
    "\n",
    "        'N015': 'Lentidao_Agitacao_Ultimas_Semanas',\n",
    "        'Q132': 'Uso_Remedio_Dormir',\n",
    "        'Q133': 'Uso_Quantos_Dias_Remedio_Dormir',\n",
    "\n",
    "        ### Gravidez ###\n",
    "\n",
    "        'R034': 'Evitar_Gravidez',\n",
    "        'R035': 'Porque_Nao_Evitar_Gravidez',\n",
    "        'R040': 'Idade_Gravidez',\n",
    "        'R039': 'Ja_Engravidou',\n",
    "        'R041': 'Aborto_Espontaneo',\n",
    "        'R042': 'Aborto_Provocado',\n",
    "\n",
    "        ### Lesão Cerebral ###\n",
    "\n",
    "        'Q068': 'Diagnosticado_AVC_Derrame',\n",
    "        'O025': 'Sofreu_Violencia_Pessoa_Desconhecida',\n",
    "        'O027': 'Tipo_Mais_Grave_Violencia',\n",
    "        'O029': 'Local_Violencia',\n",
    "        'O031': 'Deixou_Fazer_Atividade_Violencia',\n",
    "        'O033': 'Assistencia_Saude_Violencia',\n",
    "        'O036': 'Sequela_Incapacidade_Violencia',\n",
    "        'O037': 'Sofreu_Violencia_Pessoa_Conhecida',\n",
    "        'O038': 'Frequencia_Violencia_Pessoa_Conhecida',\n",
    "        'O039': 'Tipo_Violencia_Pessoa_Conhecida',\n",
    "        'O042': 'Pessoa_Conhecida_Violencia',\n",
    "\n",
    "        ### Medicamentos ###\n",
    "\n",
    "        'Q06204': 'Recomend_Remedio_Colesterol',\n",
    "        'Q006': 'Toma_Remedio_Hipertensao',\n",
    "        'Q07205': 'Toma_Remedio_AVC',\n",
    "        'Q06503': 'Toma_Remedio_Doenca_Coracao',\n",
    "\n",
    "        ### Menopausa/Andropausa ###\n",
    "\n",
    "        'R026': 'Ainda_Menstrua',\n",
    "        'R027': 'Parou_Menstruar',\n",
    "        'R028': 'Entrou_Menopausa',\n",
    "        'R029': 'Fez_Tratamento_Menopausa',\n",
    "\n",
    "        ### Oscilação Hormonal ###\n",
    "\n",
    "        'R03601': 'Pilula_Evitar_Gravidez',\n",
    "        'R03602': 'Tabela_Evitar_Gravidez',\n",
    "        'C006': 'Sexo',\n",
    "        'Q030': 'Tem_Diabetes',\n",
    "        'N014': 'Falta_Apetite',\n",
    "\n",
    "        ### Puberdade ###\n",
    "\n",
    "        'D002': 'Frequenta_Escola',\n",
    "        'D003': 'Curso_Frequentado',\n",
    "        'O041': 'Violencia_Na_Escola_Casa',\n",
    "        'C008': 'Idade',\n",
    "\n",
    "        ### Traumas de infância ###\n",
    "\n",
    "        'G007': 'Nasceu_Ou_Adquiriu_Defi_Fisica',\n",
    "        'L004': 'Local_Acomp_Crescimento_Crianca',\n",
    "        'D006': 'Serie_Ano_Que_Frequenta',\n",
    "        \n",
    "        ### Atividade Física ###\n",
    "        'P034': 'Ativ_Fisica_3meses',\n",
    "        'P035': 'Ativ_Fisica_Semana',\n",
    "        'P036': 'Ativ_Fisica_Qual'\n",
    "    }\n",
    "\n",
    "    path ='{}/data/raw/pessoas.txt'.format(module_path)\n",
    "\n",
    "    # Preparando para processar o arquivo original.\n",
    "    chunksize = 500\n",
    "    pool = mp.Pool(mp.cpu_count())\n",
    "    reader = pd.read_fwf(\n",
    "        path, \n",
    "        widths=widths, \n",
    "        names=names,\n",
    "        chunksize=chunksize\n",
    "    )\n",
    "    \n",
    "    # Processamento do arquivo original.\n",
    "    partial_select = partial(select, cols=cols)\n",
    "    df_full = pd.concat(pool.map(partial_select, reader))\n",
    "    \n",
    "    # Salvando arquivo processado.\n",
    "    df_full.to_csv(var_path, header=True, index=False)"
   ]
  },
  {
   "cell_type": "code",
   "execution_count": 5,
   "metadata": {
    "attributes": {
     "classes": [],
     "id": "",
     "n": "12"
    }
   },
   "outputs": [
    {
     "data": {
      "text/plain": [
       "(205546, 67)"
      ]
     },
     "execution_count": 5,
     "metadata": {},
     "output_type": "execute_result"
    }
   ],
   "source": [
    "df_full.shape"
   ]
  },
  {
   "cell_type": "markdown",
   "metadata": {},
   "source": [
    "### Selecionando instâncias diagnosticadas com depressão\n",
    "\n",
    "- Primeiro, será feita uma query buscando as instâncias onde o campo Diagnosticado_Depressao é igual 1;\n",
    "- Depois, o resultado será salvo em um novo arquivo csv;\n",
    "- Caso o arquivo já exista, basta ser carregado."
   ]
  },
  {
   "cell_type": "code",
   "execution_count": 6,
   "metadata": {
    "attributes": {
     "classes": [],
     "id": "",
     "n": "14"
    }
   },
   "outputs": [],
   "source": [
    "dep_path = '{}/data/processed/depressao.csv'.format(module_path)\n",
    "try:\n",
    "    df_dep = pd.read_csv(dep_path)\n",
    "except FileNotFoundError:\n",
    "    df_dep = df_full.query('Diagnosticado_Depressao == 1')\n",
    "    df_dep.to_csv(dep_path, header=True, index=False)"
   ]
  },
  {
   "cell_type": "code",
   "execution_count": 7,
   "metadata": {},
   "outputs": [
    {
     "data": {
      "text/plain": [
       "(4235, 67)"
      ]
     },
     "execution_count": 7,
     "metadata": {},
     "output_type": "execute_result"
    }
   ],
   "source": [
    "df_dep.shape"
   ]
  },
  {
   "cell_type": "markdown",
   "metadata": {},
   "source": [
    "### Selecionando instâncias não diagnosticadas com depressão\n",
    "\n",
    "- Primeiro, será feita uma query buscando as instâncias onde o campo Diagnosticado_Depressao é igual 2;\n",
    "- Depois, o resultado será salvo em um novo arquivo csv;\n",
    "- Caso o arquivo já exista, basta ser carregado."
   ]
  },
  {
   "cell_type": "code",
   "execution_count": 8,
   "metadata": {},
   "outputs": [],
   "source": [
    "dep_path = '{}/data/processed/nao-depressao.csv'.format(module_path)\n",
    "try:\n",
    "    df_ndep = pd.read_csv(dep_path)\n",
    "except FileNotFoundError:\n",
    "    df_ndep = df_full.query('Diagnosticado_Depressao == 2').sample(df_dep.shape[0])\n",
    "    df_ndep.to_csv(dep_path, header=True, index=False)"
   ]
  },
  {
   "cell_type": "code",
   "execution_count": 9,
   "metadata": {},
   "outputs": [
    {
     "data": {
      "text/plain": [
       "(4235, 67)"
      ]
     },
     "execution_count": 9,
     "metadata": {},
     "output_type": "execute_result"
    }
   ],
   "source": [
    "df_ndep.shape"
   ]
  },
  {
   "cell_type": "markdown",
   "metadata": {},
   "source": [
    "### Unindo as bases\n",
    "\n",
    "O objetivo é trabalhar com instâncias diagnosticadas ou não com depressão. Para tanto, iremos concatenar as duas bases geradas."
   ]
  },
  {
   "cell_type": "code",
   "execution_count": 10,
   "metadata": {},
   "outputs": [],
   "source": [
    "sample_path = '{}/data/processed/sample.csv'.format(module_path)\n",
    "\n",
    "try:\n",
    "    df_sample = pd.read_csv(sample_path)\n",
    "except FileNotFoundError:\n",
    "    df_sample = pd.concat([df_dep, df_ndep])\n",
    "    df_sample.to_csv(sample_path, header=True, index=False)"
   ]
  },
  {
   "cell_type": "code",
   "execution_count": 11,
   "metadata": {},
   "outputs": [
    {
     "data": {
      "text/plain": [
       "(8470, 67)"
      ]
     },
     "execution_count": 11,
     "metadata": {},
     "output_type": "execute_result"
    }
   ],
   "source": [
    "df_sample.shape"
   ]
  },
  {
   "cell_type": "code",
   "execution_count": 12,
   "metadata": {},
   "outputs": [
    {
     "data": {
      "text/plain": [
       "Diagnosticado_Depressao                     0\n",
       "Defic_Intelectual                           0\n",
       "Nasceu_Ou_Adquiriu_Defic_Intelectual     8394\n",
       "Defic_Intelectual_Limita_Atividades      8394\n",
       "Doença_Fisica_Cronica_Mental                0\n",
       "Visita_Medico                            8148\n",
       "Doença_Cerebral_Limita                   8148\n",
       "Esqz_Bipol_Psicose_TOC                      0\n",
       "Psicoterapia_Doenca_Mental               8148\n",
       "Medicamentos_Doenca_Mental               8148\n",
       "Diagnostico_Doenca_Coracao                  0\n",
       "Diagnostico_Infarto                      7924\n",
       "Diagnostico_Angina                       7924\n",
       "Diagnostico_Insuf_Cardiaca               7924\n",
       "Diagnostico_Doença_Pulmao                   0\n",
       "Diagnostico_Enf_Pulmonar                 8228\n",
       "Diagnotico_Bronquite_Cronica             8228\n",
       "Diagnostico_Outra_Pulmonar               8228\n",
       "Diagnostico_Cancer                          0\n",
       "Diagnostico_Insuf_Renal_Cronica             0\n",
       "Duas_Semanas_Cansado                       98\n",
       "Duas_Semanas _Problema_Sono                 0\n",
       "Cansado_Subir_Andar_Dor_Peito               0\n",
       "Exercicio_Pesado                         3759\n",
       "Lentidao_Agitacao_Ultimas_Semanas           0\n",
       "Uso_Remedio_Dormir                          0\n",
       "Uso_Quantos_Dias_Remedio_Dormir          6642\n",
       "Evitar_Gravidez                          5760\n",
       "Porque_Nao_Evitar_Gravidez               7262\n",
       "Idade_Gravidez                           5773\n",
       "                                         ... \n",
       "Deixou_Fazer_Atividade_Violencia         8082\n",
       "Assistencia_Saude_Violencia              8082\n",
       "Sequela_Incapacidade_Violencia           8407\n",
       "Sofreu_Violencia_Pessoa_Conhecida           0\n",
       "Frequencia_Violencia_Pessoa_Conhecida    8045\n",
       "Tipo_Violencia_Pessoa_Conhecida          8045\n",
       "Pessoa_Conhecida_Violencia               8045\n",
       "Recomend_Remedio_Colesterol              6886\n",
       "Toma_Remedio_Hipertensao                 6052\n",
       "Toma_Remedio_AVC                         8254\n",
       "Toma_Remedio_Doenca_Coracao              7924\n",
       "Ainda_Menstrua                           3363\n",
       "Parou_Menstruar                          6577\n",
       "Entrou_Menopausa                         6577\n",
       "Fez_Tratamento_Menopausa                 6801\n",
       "Pilula_Evitar_Gravidez                   6968\n",
       "Tabela_Evitar_Gravidez                   6968\n",
       "Sexo                                        0\n",
       "Tem_Diabetes                              742\n",
       "Falta_Apetite                               0\n",
       "Frequenta_Escola                            0\n",
       "Curso_Frequentado                        7767\n",
       "Violencia_Na_Escola_Casa                 8045\n",
       "Idade                                       0\n",
       "Nasceu_Ou_Adquiriu_Defi_Fisica           8256\n",
       "Local_Acomp_Crescimento_Crianca          8470\n",
       "Serie_Ano_Que_Frequenta                  7891\n",
       "Ativ_Fisica_3meses                          0\n",
       "Ativ_Fisica_Semana                       6009\n",
       "Ativ_Fisica_Qual                         6086\n",
       "Length: 67, dtype: int64"
      ]
     },
     "execution_count": 12,
     "metadata": {},
     "output_type": "execute_result"
    }
   ],
   "source": [
    "n = df_sample.shape[0]\n",
    "missing_vals = n - df_sample.count()\n",
    "missing_vals"
   ]
  },
  {
   "cell_type": "code",
   "execution_count": 13,
   "metadata": {},
   "outputs": [
    {
     "data": {
      "text/plain": [
       "Diagnosticado_Depressao                    0.000000\n",
       "Defic_Intelectual                          0.000000\n",
       "Nasceu_Ou_Adquiriu_Defic_Intelectual      99.102715\n",
       "Defic_Intelectual_Limita_Atividades       99.102715\n",
       "Doença_Fisica_Cronica_Mental               0.000000\n",
       "Visita_Medico                             96.198347\n",
       "Doença_Cerebral_Limita                    96.198347\n",
       "Esqz_Bipol_Psicose_TOC                     0.000000\n",
       "Psicoterapia_Doenca_Mental                96.198347\n",
       "Medicamentos_Doenca_Mental                96.198347\n",
       "Diagnostico_Doenca_Coracao                 0.000000\n",
       "Diagnostico_Infarto                       93.553719\n",
       "Diagnostico_Angina                        93.553719\n",
       "Diagnostico_Insuf_Cardiaca                93.553719\n",
       "Diagnostico_Doença_Pulmao                  0.000000\n",
       "Diagnostico_Enf_Pulmonar                  97.142857\n",
       "Diagnotico_Bronquite_Cronica              97.142857\n",
       "Diagnostico_Outra_Pulmonar                97.142857\n",
       "Diagnostico_Cancer                         0.000000\n",
       "Diagnostico_Insuf_Renal_Cronica            0.000000\n",
       "Duas_Semanas_Cansado                       1.157025\n",
       "Duas_Semanas _Problema_Sono                0.000000\n",
       "Cansado_Subir_Andar_Dor_Peito              0.000000\n",
       "Exercicio_Pesado                          44.380165\n",
       "Lentidao_Agitacao_Ultimas_Semanas          0.000000\n",
       "Uso_Remedio_Dormir                         0.000000\n",
       "Uso_Quantos_Dias_Remedio_Dormir           78.417946\n",
       "Evitar_Gravidez                           68.004723\n",
       "Porque_Nao_Evitar_Gravidez                85.737898\n",
       "Idade_Gravidez                            68.158205\n",
       "                                            ...    \n",
       "Deixou_Fazer_Atividade_Violencia          95.419126\n",
       "Assistencia_Saude_Violencia               95.419126\n",
       "Sequela_Incapacidade_Violencia            99.256198\n",
       "Sofreu_Violencia_Pessoa_Conhecida          0.000000\n",
       "Frequencia_Violencia_Pessoa_Conhecida     94.982290\n",
       "Tipo_Violencia_Pessoa_Conhecida           94.982290\n",
       "Pessoa_Conhecida_Violencia                94.982290\n",
       "Recomend_Remedio_Colesterol               81.298701\n",
       "Toma_Remedio_Hipertensao                  71.452184\n",
       "Toma_Remedio_AVC                          97.449823\n",
       "Toma_Remedio_Doenca_Coracao               93.553719\n",
       "Ainda_Menstrua                            39.704841\n",
       "Parou_Menstruar                           77.650531\n",
       "Entrou_Menopausa                          77.650531\n",
       "Fez_Tratamento_Menopausa                  80.295159\n",
       "Pilula_Evitar_Gravidez                    82.266824\n",
       "Tabela_Evitar_Gravidez                    82.266824\n",
       "Sexo                                       0.000000\n",
       "Tem_Diabetes                               8.760331\n",
       "Falta_Apetite                              0.000000\n",
       "Frequenta_Escola                           0.000000\n",
       "Curso_Frequentado                         91.700118\n",
       "Violencia_Na_Escola_Casa                  94.982290\n",
       "Idade                                      0.000000\n",
       "Nasceu_Ou_Adquiriu_Defi_Fisica            97.473436\n",
       "Local_Acomp_Crescimento_Crianca          100.000000\n",
       "Serie_Ano_Que_Frequenta                   93.164109\n",
       "Ativ_Fisica_3meses                         0.000000\n",
       "Ativ_Fisica_Semana                        70.944510\n",
       "Ativ_Fisica_Qual                          71.853601\n",
       "Length: 67, dtype: float64"
      ]
     },
     "execution_count": 13,
     "metadata": {},
     "output_type": "execute_result"
    }
   ],
   "source": [
    "missing_vals * 100 / n"
   ]
  },
  {
   "cell_type": "code",
   "execution_count": 14,
   "metadata": {},
   "outputs": [
    {
     "data": {
      "image/png": "[encoded data removed]",
      "text/plain": [
       "<Figure size 432x288 with 1 Axes>"
      ]
     },
     "metadata": {
      "needs_background": "light"
     },
     "output_type": "display_data"
    }
   ],
   "source": [
    "path = '{}/figures'.format(module_path)\n",
    "\n",
    "fig, ax = plt.subplots()\n",
    "\n",
    "for col in list(df_sample):\n",
    "    df_sample.hist(column=col, bins=100, ax=ax)\n",
    "    fig.savefig('{}/{}.png'.format(path, col))"
   ]
  },
  {
   "cell_type": "markdown",
   "metadata": {},
   "source": [
    "## Intervalo de Confiança"
   ]
  },
  {
   "cell_type": "code",
   "execution_count": null,
   "metadata": {},
   "outputs": [],
   "source": [
    "Z = 1.96 # 95%\n",
    "s = df_sample.std()"
   ]
  }
 ],
 "metadata": {
  "kernelspec": {
   "display_name": "Python 3",
   "language": "python",
   "name": "python3"
  },
  "language_info": {
   "codemirror_mode": {
    "name": "ipython",
    "version": 3
   },
   "file_extension": ".py",
   "mimetype": "text/x-python",
   "name": "python",
   "nbconvert_exporter": "python",
   "pygments_lexer": "ipython3",
   "version": "3.7.2"
  }
 },
 "nbformat": 4,
 "nbformat_minor": 2
}
